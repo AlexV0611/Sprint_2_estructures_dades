{
 "cells": [
  {
   "cell_type": "markdown",
   "id": "6712829d",
   "metadata": {},
   "source": [
    "### Exercici 1: Crea una llista que agrupi els mesos de l’any en trimestres (1T: gener, febrer i març; 2T: abril, maig, juny...), és a dir, una llista amb 4 llistes dins."
   ]
  },
  {
   "cell_type": "code",
   "execution_count": 6,
   "id": "dc5e4a41",
   "metadata": {},
   "outputs": [
    {
     "name": "stdout",
     "output_type": "stream",
     "text": [
      "Mesos Primer trimestre: ['gener', 'febrer', 'març']\n",
      "Mesos Segon trimestre: ['abril', 'maig', 'juny']\n",
      "Mesos Tercer trimestre: ['juliol', 'agost', 'setembre']\n",
      "Mesos Quart trimestre: ['octubre', 'novembre', 'desembre']\n"
     ]
    }
   ],
   "source": [
    "trimestres = [\n",
    "    [\"gener\", \"febrer\", \"març\"],\n",
    "    [\"abril\", \"maig\", \"juny\"],\n",
    "    [\"juliol\", \"agost\", \"setembre\"],\n",
    "    [\"octubre\", \"novembre\", \"desembre\"]\n",
    "]\n",
    "\n",
    "\n",
    "T1 = trimestres[0]\n",
    "T2 = trimestres[1]\n",
    "T3 = trimestres[2]\n",
    "T4 = trimestres[3]\n",
    "\n",
    "\n",
    "print(\"Mesos Primer trimestre:\", T1)\n",
    "print(\"Mesos Segon trimestre:\", T2)\n",
    "print(\"Mesos Tercer trimestre:\", T3)\n",
    "print(\"Mesos Quart trimestre:\", T4)\n",
    "\n",
    "\n"
   ]
  },
  {
   "cell_type": "markdown",
   "id": "5254d8cf",
   "metadata": {},
   "source": [
    "### Exercici 2: Crea un codi que et permeti accedir a:"
   ]
  },
  {
   "cell_type": "code",
   "execution_count": 1,
   "id": "19314e36",
   "metadata": {},
   "outputs": [
    {
     "name": "stdout",
     "output_type": "stream",
     "text": [
      "El segon mes del primer trimestre és: febrer\n",
      "Mesos del primer trimestre: ['gener', 'febrer', 'març']\n",
      "setembre octubre\n"
     ]
    }
   ],
   "source": [
    "# 2.a: El segon mes del primer trimestre\n",
    "\n",
    "\n",
    "trimestres = [\n",
    "    [\"gener\", \"febrer\", \"març\"],\n",
    "    [\"abril\", \"maig\", \"juny\"],\n",
    "    [\"juliol\", \"agost\", \"setembre\"],\n",
    "    [\"octubre\", \"novembre\", \"desembre\"]\n",
    "]\n",
    "\n",
    "\n",
    "T1 = trimestres[0]\n",
    "T2 = trimestres[1]\n",
    "T3 = trimestres[2]\n",
    "T4 = trimestres[3]\n",
    "\n",
    "print(\"El segon mes del primer trimestre és:\",T1[1])\n",
    "\n",
    "\n",
    "# 2.b: Els mesos del primer trimestre\n",
    "\n",
    "print(\"Mesos del primer trimestre:\",T1[0:3])\n",
    "\n",
    "# 2.c: Accedir a Setembre i octubre\n",
    "\n",
    "print(T3[2],T4[0])\n"
   ]
  },
  {
   "cell_type": "markdown",
   "id": "fefb1677",
   "metadata": {},
   "source": [
    "### Exercici 3: Crea una llista amb nombres desordenats i respon a les següents preguntes:"
   ]
  },
  {
   "cell_type": "code",
   "execution_count": 38,
   "id": "1e808bf1",
   "metadata": {},
   "outputs": [
    {
     "name": "stdout",
     "output_type": "stream",
     "text": [
      "[ 0  2  4  4  8  7  3  2  5  6  6 11  4 10  8]\n",
      "El número 3 apareix 1 vegades\n",
      "El número 4 apareix 3 vegades\n",
      "El número més gran és el: 11\n",
      "Els tres números més petits són: [0, 2, 2]\n",
      "El rang d´aquesta llista és: 11\n"
     ]
    }
   ],
   "source": [
    "# Quantes vegades apareix el número 3?\n",
    "\n",
    "import numpy as np\n",
    "\n",
    "from numpy import random\n",
    "\n",
    "llista = random.randint(12, size=(15))\n",
    "\n",
    "print(llista)\n",
    "\n",
    "print(\"El número 3 apareix\",(llista == 3).sum(),\"vegades\")\n",
    "\n",
    "\n",
    "# Quantes vegades apareixen els nombres 3 i 4?\n",
    "\n",
    "\n",
    "print(\"El número 4 apareix\",(llista == 4).sum(),\"vegades\")\n",
    "\n",
    "\n",
    "# Quin és el número més gran?\n",
    "\n",
    "\n",
    "print(\"El número més gran és el:\",max(llista))\n",
    "\n",
    "\n",
    "# Quins són els 3 números més petits?\n",
    "\n",
    "tres_numeros_mes_petits = sorted(llista)[:3]\n",
    "print(\"Els tres números més petits són:\", tres_numeros_mes_petits)\n",
    "\n",
    "\n",
    "# Quin és el rang d’aquesta llista?\n",
    "\n",
    "rang = max(llista) - min(llista)\n",
    "print(\"El rang d´aquesta llista és:\",rang)\n"
   ]
  },
  {
   "cell_type": "markdown",
   "id": "b98c6460",
   "metadata": {},
   "source": [
    "### Exercici 4: Crea un diccionari de la següent forma i respon a les preguntes:"
   ]
  },
  {
   "cell_type": "code",
   "execution_count": 32,
   "id": "3f50176e",
   "metadata": {},
   "outputs": [
    {
     "name": "stdout",
     "output_type": "stream",
     "text": [
      "{'Pomes': {'Qty': 5, '€': 0.42}, 'Peres': {'Qty': 3, '€': 0.66}, 'Taronges': {'Qty': 6, '€': 0.83}}\n",
      "El cost total de les peres és: 1.98 €\n",
      "El total de fruites comprades és: 14\n",
      "La fruita més cara és Taronges amb un preu de 0.83 €\n"
     ]
    }
   ],
   "source": [
    "compra = { \"Pomes\" : {\"Qty\": 5, \"€\": 0.42}, \"Peres\" : {\"Qty\": 3, \"€\": 0.66} }\n",
    "\n",
    "\n",
    "# Afegeix alguna compra més\n",
    "\n",
    "compra[\"Taronges\"]= {\"Qty\": 6, \"€\": 0.83}\n",
    "\n",
    "print(compra)\n",
    "\n",
    "# Quant han costat les peres en total?\n",
    "\n",
    "cost_peres = compra[\"Peres\"][\"Qty\"] * compra[\"Peres\"][\"€\"]\n",
    "\n",
    "print(\"El cost total de les peres és:\",cost_peres,\"€\")\n",
    "\n",
    "# Quantes fruites hem comprat en total?\n",
    "\n",
    "total_fruites_comprades = compra[\"Pomes\"][\"Qty\"] + compra[\"Peres\"][\"Qty\"] + compra[\"Taronges\"][\"Qty\"]\n",
    "\n",
    "print(\"El total de fruites comprades és:\",total_fruites_comprades)\n",
    "\n",
    "# Quina és la fruita més cara?\n",
    "\n",
    "fruita_mes_cara = max(compra, key=lambda x: compra[x]['€'])\n",
    "\n",
    "print(f\"La fruita més cara és {fruita_mes_cara} amb un preu de {compra[fruita_mes_cara]['€']} €\")\n"
   ]
  }
 ],
 "metadata": {
  "kernelspec": {
   "display_name": "Python 3 (ipykernel)",
   "language": "python",
   "name": "python3"
  },
  "language_info": {
   "codemirror_mode": {
    "name": "ipython",
    "version": 3
   },
   "file_extension": ".py",
   "mimetype": "text/x-python",
   "name": "python",
   "nbconvert_exporter": "python",
   "pygments_lexer": "ipython3",
   "version": "3.10.9"
  }
 },
 "nbformat": 4,
 "nbformat_minor": 5
}
